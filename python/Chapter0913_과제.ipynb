{
 "cells": [
  {
   "cell_type": "markdown",
   "metadata": {
    "id": "fD4Qab2qYgOm"
   },
   "source": [
    "안녕하세요. 수강생 여러분~! Chapter09 ~ 13 수업은 잘 들으셨나요?\n",
    "\n",
    "Chapter09 ~ 13의 수업 내용을 바탕으로 아래 문제를 풀어주시면 됩니다.\n",
    "\n",
    "[**답변 입력 방법**]\n",
    "\n",
    "문제 아래에 있는 코드 입력창에 정답코드를 작성하신 후 ▷ 버튼을 클릭해 코드를 실행해보세요<br>"
   ]
  },
  {
   "cell_type": "markdown",
   "metadata": {},
   "source": [
    "---"
   ]
  },
  {
   "cell_type": "markdown",
   "metadata": {
    "id": "swqdcIl8Yn-c"
   },
   "source": [
    "[문제1]<br>\n",
    "\n",
    "movie_rank 리스트에는 아래와 같이 네 개의 영화 제목이 바인딩되어 있다. \"비밀\"을 \"나폴레옹\"과 \"괴물\" 사이에 추가해주세요\n",
    "\n",
    "\n",
    "\n",
    "```\n",
    "movie = ['서울의 봄', '나폴레옹', '괴물', '베트맨']\n",
    "```\n",
    "\n"
   ]
  },
  {
   "cell_type": "code",
   "metadata": {
    "id": "vjUhNFdBYo2n",
    "ExecuteTime": {
     "end_time": "2024-10-21T01:51:23.810524Z",
     "start_time": "2024-10-21T01:51:23.807083Z"
    }
   },
   "source": [
    "movie = ['서울의 봄', '나폴레옹', '괴물', '베트맨']\n",
    "movie.insert(2,'비밀')\n",
    "print(movie)"
   ],
   "outputs": [
    {
     "name": "stdout",
     "output_type": "stream",
     "text": [
      "['서울의 봄', '나폴레옹', '비밀', '괴물', '베트맨']\n"
     ]
    }
   ],
   "execution_count": 9
  },
  {
   "cell_type": "markdown",
   "metadata": {},
   "source": [
    "---"
   ]
  },
  {
   "cell_type": "markdown",
   "metadata": {
    "id": "KZBNuM5MYpZR"
   },
   "source": [
    "[문제2]<br>\n",
    "\n",
    "movie_rank 리스트에서 '베트맨'를 삭제해주세요\n",
    "\n",
    "```\n",
    "movie = ['서울의 봄', '나폴레옹', '비밀', '괴물', '베트맨']\n",
    "```\n",
    "\n"
   ]
  },
  {
   "cell_type": "code",
   "metadata": {
    "id": "cPezrT7cYreh",
    "ExecuteTime": {
     "end_time": "2024-10-21T01:51:31.407696Z",
     "start_time": "2024-10-21T01:51:31.404191Z"
    }
   },
   "source": [
    "del movie[-1]\n",
    "print(movie)"
   ],
   "outputs": [
    {
     "name": "stdout",
     "output_type": "stream",
     "text": [
      "['서울의 봄', '나폴레옹', '비밀', '괴물']\n"
     ]
    }
   ],
   "execution_count": 10
  },
  {
   "cell_type": "markdown",
   "metadata": {},
   "source": [
    "---"
   ]
  },
  {
   "cell_type": "markdown",
   "metadata": {
    "id": "i8EJYPY0YsAe"
   },
   "source": [
    "[문제3]<br>\n",
    "\n",
    "[언어1]과 [언어2] 리스트가 있을 때 언어1과 언어2의 원소를 모두 갖고 있는 [언어모음]이라는 list를 만들어주세요\n",
    "\n",
    "```lang1 = [\"C\", \"C++\", \"JAVA\"]```<br>\n",
    "```lang2 = [\"Python\", \"Go\", \"C#\"]```  \n",
    "\n",
    "실행 예:\n",
    "언어들\n",
    "['C', 'C++', 'JAVA', 'Python', 'Go', 'C#']"
   ]
  },
  {
   "cell_type": "code",
   "metadata": {
    "ExecuteTime": {
     "end_time": "2024-10-21T01:53:31.697040Z",
     "start_time": "2024-10-21T01:53:31.692686Z"
    }
   },
   "source": [
    "lang1 = [\"C\",\"C++\",\"JAVA\"]\n",
    "lang2 = [\"Python\",\"Go\",\"C#\"]\n",
    "\n",
    "언어들 = lang1 +lang2\n",
    "\n",
    "print(언어들)"
   ],
   "outputs": [
    {
     "name": "stdout",
     "output_type": "stream",
     "text": [
      "['C', 'C++', 'JAVA', 'Python', 'Go', 'C#']\n"
     ]
    }
   ],
   "execution_count": 14
  },
  {
   "cell_type": "markdown",
   "metadata": {},
   "source": [
    "---"
   ]
  },
  {
   "cell_type": "markdown",
   "metadata": {
    "id": "5VFysaYRwT69"
   },
   "source": [
    "[문제4]<br>\n",
    "\n",
    "다음 리스트에서 최댓값과 최솟값을 출력해주세요.\n",
    "\n",
    "```\n",
    "nums = [1, 2, 3, 4, 5, 6, 7, 9, 10]\n",
    "```\n",
    "\n"
   ]
  },
  {
   "cell_type": "code",
   "metadata": {
    "ExecuteTime": {
     "end_time": "2024-10-21T01:56:09.907050Z",
     "start_time": "2024-10-21T01:56:09.902545Z"
    }
   },
   "source": [
    "nums = [1,2,3,4,5,6,7,8,9,10]\n",
    "\n",
    "print(max(nums),min(nums))"
   ],
   "outputs": [
    {
     "name": "stdout",
     "output_type": "stream",
     "text": [
      "10 1\n"
     ]
    }
   ],
   "execution_count": 20
  },
  {
   "cell_type": "markdown",
   "metadata": {},
   "source": [
    "---"
   ]
  },
  {
   "cell_type": "markdown",
   "metadata": {
    "id": "5_IA50IQE2AM"
   },
   "source": [
    "[문제5]\n",
    "\n",
    "다음 리스트에 저장된 데이터의 개수를 화면에 구해주세요\n",
    "\n",
    "```cook = [\"피자\", \"김밥\", \"만두\", \"양념치킨\", \"족발\", \"피자\", \"김치만두\", \"쫄면\"]```"
   ]
  },
  {
   "cell_type": "code",
   "metadata": {
    "id": "iRDvWnF8wTXa",
    "ExecuteTime": {
     "end_time": "2024-10-21T01:59:08.779324Z",
     "start_time": "2024-10-21T01:59:08.775224Z"
    }
   },
   "source": [
    "cook = [\"피자\", \"김밥\", \"만두\", \"양념치킨\", \"족발\", \"피자\", \"김치만두\", \"쫄면\"]\n",
    "print(len(cook))"
   ],
   "outputs": [
    {
     "name": "stdout",
     "output_type": "stream",
     "text": [
      "8\n"
     ]
    }
   ],
   "execution_count": 22
  },
  {
   "cell_type": "markdown",
   "metadata": {},
   "source": [
    "---"
   ]
  },
  {
   "cell_type": "markdown",
   "metadata": {
    "id": "7DVH0FOBE4pt"
   },
   "source": [
    "[문제6]\n",
    "\n",
    "다음 리스트의 평균을 출력해주세요\n",
    "\n",
    "```nums = [1, 2, 3, 4, 5]```"
   ]
  },
  {
   "cell_type": "code",
   "metadata": {
    "id": "NXmaxplTE4QY",
    "ExecuteTime": {
     "end_time": "2024-10-21T02:03:36.065199Z",
     "start_time": "2024-10-21T02:03:36.061328Z"
    }
   },
   "source": [
    "nums = [1, 2, 3, 4, 5]\n",
    "avg = sum(nums)/len(nums)\n",
    "\n",
    "print(avg)"
   ],
   "outputs": [
    {
     "name": "stdout",
     "output_type": "stream",
     "text": [
      "3.0\n"
     ]
    }
   ],
   "execution_count": 24
  },
  {
   "cell_type": "markdown",
   "metadata": {},
   "source": [
    "---"
   ]
  },
  {
   "cell_type": "markdown",
   "metadata": {
    "id": "Cp7IpuJBFcq2"
   },
   "source": [
    "[문제7]\n",
    "\n",
    "price 변수에는 날짜와 종가 정보가 저장돼 있습니다.\n",
    "날짜 정보를 제외하고 가격 정보만을 출력해주세요\n",
    "\n",
    "```price = ['20180728', 100, 130, 140, 150, 160, 170]```\n",
    "\n",
    "출력:\n",
    "[100, 130, 140, 150, 160, 170]"
   ]
  },
  {
   "cell_type": "code",
   "metadata": {
    "id": "BpMb0bHPFdKF",
    "ExecuteTime": {
     "end_time": "2024-10-21T02:08:35.589081Z",
     "start_time": "2024-10-21T02:08:35.584918Z"
    }
   },
   "source": [
    "\n",
    "price = ['20180728', 100, 130, 140, 150, 160, 170]\n",
    "\n",
    "print(price[1:])"
   ],
   "outputs": [
    {
     "name": "stdout",
     "output_type": "stream",
     "text": [
      "[100, 130, 140, 150, 160, 170]\n"
     ]
    }
   ],
   "execution_count": 29
  },
  {
   "cell_type": "markdown",
   "metadata": {},
   "source": [
    "---"
   ]
  },
  {
   "cell_type": "markdown",
   "metadata": {
    "id": "arxKtWk9Fy-9"
   },
   "source": [
    "[문제8]\n",
    "\n",
    "아래 코드 실행 시 오류가 발생한 사유를 설명해주세요\n",
    "\n",
    "```t = (1, 2, 3)```<br>\n",
    "```t[0] = 'a' ```<br>\n",
    "```Traceback (most recent call last):```  \n",
    "   ```File \"<pyshell#46>\", line 1, in <module>```  \n",
    "      ```t[0] = 'a'```   \n",
    "```TypeError: 'tuple' object does not support item assignment```"
   ]
  },
  {
   "cell_type": "markdown",
   "metadata": {
    "id": "_2U4Hqf_Gf9v"
   },
   "source": "t는 튜플을 나타내는 용어이고, 튜플은 값을 변경 할 수 없는 속성을 가지고 있음으로, 1을 a로 바꾸는 것은 불가능하다."
  },
  {
   "cell_type": "markdown",
   "metadata": {},
   "source": [
    "---"
   ]
  },
  {
   "cell_type": "markdown",
   "metadata": {
    "id": "1DwclZivGe72"
   },
   "source": [
    "[문제9]\n",
    "다음 딕셔너리를 사용하여 메로나 가격을 출력해주세요\n",
    "\n",
    "```ice = {'메로나': 1000,```<br>\n",
    "&emsp;&emsp;&emsp;&emsp;```'폴로포': 1200,```<br>\n",
    "&emsp;&emsp;&emsp;&emsp;```'빵빠레': 1800,```<br>\n",
    "&emsp;&emsp;&emsp;&emsp;```'죠스바': 1200,```<br>\n",
    "&emsp;&emsp;&emsp;&emsp;```'월드콘': 1500}```<br>\n",
    "\n",
    "실행 예:\n",
    "메로나 가격: 1000"
   ]
  },
  {
   "cell_type": "code",
   "metadata": {
    "id": "jADTPFzOHcKk",
    "ExecuteTime": {
     "end_time": "2024-10-21T02:44:14.226829Z",
     "start_time": "2024-10-21T02:44:14.221677Z"
    }
   },
   "source": [
    "ice = {'메로나': 1000, \n",
    "       '폴로포': 1200,\n",
    "       '빵빠레': 1800,\n",
    "       '죠스바': 1200,\n",
    "       '월드콘': 1500}\n",
    "\n",
    "ice[\"메로나\"]"
   ],
   "outputs": [
    {
     "data": {
      "text/plain": [
       "1000"
      ]
     },
     "execution_count": 44,
     "metadata": {},
     "output_type": "execute_result"
    }
   ],
   "execution_count": 44
  },
  {
   "cell_type": "markdown",
   "metadata": {},
   "source": [
    "---"
   ]
  },
  {
   "cell_type": "markdown",
   "metadata": {
    "id": "mBs2AaqcJAXN"
   },
   "source": [
    "[문제10]\n",
    "\n",
    "다음 딕셔너리에서 메로나의 가격을 1300으로 수정해주세요\n",
    "\n",
    "```ice = {'메로나': 1000,```<br>\n",
    "&emsp;&emsp;&emsp;&emsp;```'폴로포': 1200,```<br>\n",
    "&emsp;&emsp;&emsp;&emsp;```'빵빠레': 1800,```<br>\n",
    "&emsp;&emsp;&emsp;&emsp;```'죠스바': 1200,```<br>\n",
    "&emsp;&emsp;&emsp;&emsp;```'월드콘': 1500}```<br>"
   ]
  },
  {
   "cell_type": "code",
   "metadata": {
    "id": "C2RyUgoTJKsF",
    "ExecuteTime": {
     "end_time": "2024-10-21T02:44:20.751222Z",
     "start_time": "2024-10-21T02:44:20.745465Z"
    }
   },
   "source": [
    "ice[\"메로나\"] = 1300\n",
    "ice"
   ],
   "outputs": [
    {
     "data": {
      "text/plain": [
       "{'메로나': 1300, '폴로포': 1200, '빵빠레': 1800, '죠스바': 1200, '월드콘': 1500}"
      ]
     },
     "execution_count": 45,
     "metadata": {},
     "output_type": "execute_result"
    }
   ],
   "execution_count": 45
  },
  {
   "cell_type": "markdown",
   "metadata": {},
   "source": [
    "---"
   ]
  },
  {
   "cell_type": "markdown",
   "metadata": {
    "id": "_ZdcVEtTJKS1"
   },
   "source": [
    "[문제11]\n",
    "\n",
    "아래 순서대로 주어진 수강생 이름과 등급을 하나의 딕셔너리로 만드는 코드를 작성해주세요\n",
    "\n",
    "\n",
    "names : 나이썬, 김자바, 김씨, 박씨샵  \n",
    "grades :   B       B      A      C\n"
   ]
  },
  {
   "cell_type": "code",
   "metadata": {
    "id": "7RyqlYwpJOp7",
    "ExecuteTime": {
     "end_time": "2024-10-21T02:36:17.447713Z",
     "start_time": "2024-10-21T02:36:17.442180Z"
    }
   },
   "source": [
    "수강생 = {\"나이썬\":'B', \"김자바\" : 'B', \"김씨\" : 'A', \"박씨샵\":'C'}\n",
    "수강생 "
   ],
   "outputs": [
    {
     "data": {
      "text/plain": [
       "{'나이썬': 'B', '김자바': 'B', '김씨': 'A', '박씨샵': 'C'}"
      ]
     },
     "execution_count": 38,
     "metadata": {},
     "output_type": "execute_result"
    }
   ],
   "execution_count": 38
  },
  {
   "cell_type": "markdown",
   "metadata": {},
   "source": [
    "---"
   ]
  },
  {
   "cell_type": "markdown",
   "metadata": {
    "id": "yzi6f2-YKsk4"
   },
   "source": [
    "[문제12]\n",
    "\n",
    "아래 ice 딕셔너리에 데이터를 추가 후 출력해주세요\n",
    "\n",
    "ice = {\"메로나\": [300, 20],  \n",
    "              \"비비빅\": [400, 3],  \n",
    "              \"죠스바\": [250, 100]}  \n",
    "\n",
    "\n",
    "추가해야하는 데이터 : 이름 : 보석바, 가격:650, 재고:10"
   ]
  },
  {
   "cell_type": "code",
   "metadata": {
    "ExecuteTime": {
     "end_time": "2024-10-21T02:45:15.536624Z",
     "start_time": "2024-10-21T02:45:15.530667Z"
    }
   },
   "source": [
    "ice[\"보석바\"] = [300,20]\n",
    "\n",
    "ice"
   ],
   "outputs": [
    {
     "data": {
      "text/plain": [
       "{'메로나': 1300,\n",
       " '폴로포': 1200,\n",
       " '빵빠레': 1800,\n",
       " '죠스바': 1200,\n",
       " '월드콘': 1500,\n",
       " '보석바': [300, 20]}"
      ]
     },
     "execution_count": 47,
     "metadata": {},
     "output_type": "execute_result"
    }
   ],
   "execution_count": 47
  },
  {
   "cell_type": "markdown",
   "metadata": {},
   "source": [
    "---"
   ]
  },
  {
   "cell_type": "markdown",
   "metadata": {
    "id": "RQJC80PBLWGt"
   },
   "source": [
    "[문제13]\n",
    "\n",
    "아래 딕셔너리에서 key만 출력해주세요  \n",
    "\n",
    "ice = {'메로나': 1000, '폴로포': 1200, '빵빠레': 1800, '죠스바': 1200, '월드콘': 1500}\n"
   ]
  },
  {
   "cell_type": "code",
   "metadata": {
    "id": "m5m-a09iLVbO",
    "ExecuteTime": {
     "end_time": "2024-10-21T02:46:11.936884Z",
     "start_time": "2024-10-21T02:46:11.932190Z"
    }
   },
   "source": "ice.keys()",
   "outputs": [
    {
     "data": {
      "text/plain": [
       "dict_keys(['메로나', '폴로포', '빵빠레', '죠스바', '월드콘', '보석바'])"
      ]
     },
     "execution_count": 48,
     "metadata": {},
     "output_type": "execute_result"
    }
   ],
   "execution_count": 48
  },
  {
   "cell_type": "markdown",
   "metadata": {},
   "source": [
    "### 프로젝트: 간단한 ATM 관리 시스템\n",
    "\n",
    "[문제 1: 잔액 확인]\n",
    "\n",
    "현재 잔액은 1000원입니다. 현재 잔액을 출력하세요. (변수명 예시 : 잔액 - balance)"
   ]
  },
  {
   "cell_type": "code",
   "metadata": {
    "ExecuteTime": {
     "end_time": "2024-10-21T04:47:28.446637Z",
     "start_time": "2024-10-21T04:47:28.442715Z"
    }
   },
   "source": [
    "balance = 1000\n",
    "print(f'현재 잔액은 {balance}원 입니다.')"
   ],
   "outputs": [
    {
     "name": "stdout",
     "output_type": "stream",
     "text": [
      "현재 잔액은 1000원 입니다.\n"
     ]
    }
   ],
   "execution_count": 83
  },
  {
   "cell_type": "markdown",
   "metadata": {},
   "source": [
    "[문제 2: 입금]\n",
    "\n",
    "가지고 있는 돈을 입금합니다.\n",
    "\n",
    "입금 금액을 입력받고, 잔액을 갱신한 후 새로운 잔액을 출력하세요. 입금 거래를 영수증 리스트에 기록하세요.\n",
    "\n",
    "- 입금 금액은 input()을 이용해 받습니다.\n",
    "- 영수증은 list()로 선언합니다.\n",
    "- 영수증에 들어가는 정보는 튜플 형태입니다.\n",
    "- 튜플에 담기는 정보는 (입금 or 출금, 입금 or 출금 금액, 현재 잔액)순 입니다.\n",
    "\n",
    "(변수명 예시: 영수증 리스트 - receipts, 입금 금액 - deposit_amount)\n"
   ]
  },
  {
   "metadata": {
    "ExecuteTime": {
     "end_time": "2024-10-21T04:47:31.963846Z",
     "start_time": "2024-10-21T04:47:30.591202Z"
    }
   },
   "cell_type": "code",
   "source": [
    "deposit_amount = int(input(\"입금하실 금액을 입력해주세요\"))\n",
    "receipts =[]\n",
    "\n",
    "balance += deposit_amount\n",
    "receipts.append(('입금', deposit_amount,balance))\n",
    "\n",
    "print(f'입금 후 잔액 : {balance}')\n",
    "print(receipts)"
   ],
   "outputs": [
    {
     "name": "stdout",
     "output_type": "stream",
     "text": [
      "입금 후 잔액 : 7000\n",
      "[('입금', 6000, 7000)]\n"
     ]
    }
   ],
   "execution_count": 84
  },
  {
   "cell_type": "markdown",
   "metadata": {},
   "source": [
    "[문제 3: 출금]\n",
    "\n",
    "사용자가 돈을 출금합니다. 출금 금액을 입력받고, 잔액을 갱신한 후 새로운 잔액을 출력하세요. 출금 거래를 영수증 리스트에 기록하세요. \n",
    "\n",
    "- 출금 금액은 input()을 이용해 받습니다.\n",
    "- 현재 잔액보다 출금 요청 금액이 많을 경우 현재 잔액 만큼만 출금되도록 합니다.\n",
    "- 영수증에 들어가는 정보는 튜플 형태입니다.\n",
    "- 튜플에 담기는 정보는 (입금 or 출금, 입금 or 출금 금액, 현재 잔액)순 입니다.\n",
    "\n",
    "(변수명 예시: 출금금액 - withdraw_amount)"
   ]
  },
  {
   "cell_type": "code",
   "metadata": {
    "ExecuteTime": {
     "end_time": "2024-10-21T04:47:39.032842Z",
     "start_time": "2024-10-21T04:47:36.406870Z"
    }
   },
   "source": [
    "withdraw_amount = int(input(\"출금하실 금액을 입력해주세요\"))\n",
    "withdraw_amount = min(withdraw_amount,balance)\n",
    "balance -= withdraw_amount\n",
    "\n",
    "receipts.append(('출금', withdraw_amount,balance))\n",
    "print(f'출 후 잔액 : {balance}')\n",
    "print(receipts)\n"
   ],
   "outputs": [
    {
     "name": "stdout",
     "output_type": "stream",
     "text": [
      "출 후 잔액 : 0\n",
      "[('입금', 6000, 7000), ('출금', 7000, 0)]\n"
     ]
    }
   ],
   "execution_count": 85
  },
  {
   "cell_type": "markdown",
   "metadata": {},
   "source": [
    "[문제 4: 모든 거래 내역 확인]\n",
    "\n",
    "모든 거래 내역(영수증)을 요청받았을 때 출력하세요.\n",
    "- 지금까지 영수증에 추가된 정보를 출력합니다.\n",
    "- 출력 형태는 자유입니다."
   ]
  },
  {
   "cell_type": "code",
   "metadata": {
    "ExecuteTime": {
     "end_time": "2024-10-21T04:48:21.682637Z",
     "start_time": "2024-10-21T04:48:21.679386Z"
    }
   },
   "source": "print(f'모든 거래 내역 : {receipts}')",
   "outputs": [
    {
     "name": "stdout",
     "output_type": "stream",
     "text": [
      "모든 거래 내역 : [('입금', 6000, 7000), ('출금', 7000, 0)]\n"
     ]
    }
   ],
   "execution_count": 87
  }
 ],
 "metadata": {
  "colab": {
   "authorship_tag": "ABX9TyOA/CeX7CUdbTKFxV0fsocV",
   "provenance": []
  },
  "kernelspec": {
   "display_name": "Python 3 (ipykernel)",
   "name": "python3",
   "language": "python"
  },
  "language_info": {
   "name": "python",
   "version": "3.13.0"
  }
 },
 "nbformat": 4,
 "nbformat_minor": 0
}
