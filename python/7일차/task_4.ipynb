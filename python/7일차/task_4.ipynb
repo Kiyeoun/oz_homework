{
 "cells": [
  {
   "cell_type": "markdown",
   "metadata": {},
   "source": [
    "사용자 정의 예외 NegativeNumberError를 생성하고, 사용자로부터 숫자를 입력받아 음수일 경우 NegativeNumberError를 발생시키는 프로그램을 작성하세요. \n",
    "\n",
    "- 예외 처리 구문을 사용하여 음수 입력 시 \"양수를 입력해주세요.\"라는 메시지를 출력"
   ]
  },
  {
   "metadata": {
    "ExecuteTime": {
     "end_time": "2024-10-23T05:17:51.530807Z",
     "start_time": "2024-10-23T05:17:48.984671Z"
    }
   },
   "cell_type": "code",
   "source": [
    "class NegativeNumberError(Exception):\n",
    "    pass\n",
    "\n",
    "def get_positive_number():\n",
    "    try:\n",
    "        user_input = int(input(\"숫자를 입력하세요: \"))\n",
    "        \n",
    "        if user_input < 0:\n",
    "            raise NegativeNumberError\n",
    "        \n",
    "        print(f\"입력한 양수 : {user_input}\")\n",
    "    \n",
    "    except NegativeNumberError:\n",
    "        print(\"양수를 입력해주세요.\")\n",
    "    except ValueError:\n",
    "        print(\"숫자를 입력해주세요.\")\n",
    "        \n",
    "get_positive_number()"
   ],
   "outputs": [
    {
     "name": "stdout",
     "output_type": "stream",
     "text": [
      "숫자를 입력해주세요.\n"
     ]
    }
   ],
   "execution_count": 3
  }
 ],
 "metadata": {
  "language_info": {
   "name": "python"
  },
  "kernelspec": {
   "name": "python3",
   "language": "python",
   "display_name": "Python 3 (ipykernel)"
  }
 },
 "nbformat": 4,
 "nbformat_minor": 2
}
