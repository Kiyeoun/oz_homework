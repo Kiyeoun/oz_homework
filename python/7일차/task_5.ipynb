{
 "cells": [
  {
   "cell_type": "markdown",
   "metadata": {},
   "source": [
    "datetime 모듈을 사용하여 현재 날짜와 시간을 출력하는 프로그램을 작성하세요. \n",
    "\n",
    "또한, 사용자로부터 태어난 년도를 입력받아 현재 나이를 계산하여 출력하세요."
   ]
  },
  {
   "metadata": {
    "ExecuteTime": {
     "end_time": "2024-10-23T05:27:28.367154Z",
     "start_time": "2024-10-23T05:27:24.070497Z"
    }
   },
   "cell_type": "code",
   "source": [
    "from datetime import datetime\n",
    "\n",
    "def main():\n",
    "    now = datetime.now()\n",
    "    print(\"현재 날씨와 시간 : \", now.strftime(\"%d.%m.%Y %H:%M:%S\"))\n",
    "    \n",
    "    birth_year = input(\"태어난 년도를 입력하세요\")\n",
    "    \n",
    "    try:\n",
    "        birth_year = int(birth_year)\n",
    "        \n",
    "        current_year = now.year\n",
    "        age = current_year - birth_year\n",
    "        \n",
    "        print(f\"현재 나이 : {age}세\")\n",
    "        \n",
    "    except ValueError:\n",
    "        print(\"숫자를 입력해주세요.\")\n",
    "        \n",
    "main()"
   ],
   "outputs": [
    {
     "name": "stdout",
     "output_type": "stream",
     "text": [
      "현재 날씨와 시간 :  23.10.2024 14:27:24\n",
      "현재 나이 : 25세\n"
     ]
    }
   ],
   "execution_count": 1
  }
 ],
 "metadata": {
  "language_info": {
   "name": "python"
  },
  "kernelspec": {
   "name": "python3",
   "language": "python",
   "display_name": "Python 3 (ipykernel)"
  }
 },
 "nbformat": 4,
 "nbformat_minor": 2
}
