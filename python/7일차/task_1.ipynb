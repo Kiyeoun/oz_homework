{
 "cells": [
  {
   "cell_type": "markdown",
   "metadata": {},
   "source": [
    "사용자로부터 두 개의 숫자를 입력받아 나눗셈을 수행하는 프로그램을 작성하세요. \n",
    "\n",
    "[예외처리]\n",
    "- 입력 값이 숫자가 아닐 때 발생할 수 있는 ValueError\n",
    "- 나누는 수가 0일 때 발생할 수 있는 ZeroDivisionError\n",
    "- 위 2가지 예외처리 후 사용자에게 이해하기 쉬운 메시지 작성 후 출력되도록 코드를 작성\n",
    "\n",
    "try:\n",
    "    a = int(input(\"첫 번째 숫자를 입력하세요: \"))\n",
    "    b = int(input(\"두 번째 숫자를 입력하세요: \"))\n",
    "    print(a / b)\n",
    "except ValueError:\n",
    "    print(\"숫자만 입력해야 합니다.\")\n",
    "except ZeroDivisionError:\n",
    "    print(\"0으로 나눌 수 없습니다.\")"
   ]
  },
  {
   "metadata": {},
   "cell_type": "markdown",
   "source": ""
  },
  {
   "metadata": {
    "ExecuteTime": {
     "end_time": "2024-10-23T04:20:52.066057Z",
     "start_time": "2024-10-23T04:20:48.638461Z"
    }
   },
   "cell_type": "code",
   "source": [
    "def divide_numbers():\n",
    "    try : \n",
    "        num1 = int(input(\"첫 번째 숫자를 입력하세요: \"))\n",
    "        num2 = int(input(\"두 번째 숫자를 입력하세요: \"))\n",
    "        \n",
    "        result = num1 / num2\n",
    "        print(f\"{num1} / {num2} = {result}\")\n",
    "        \n",
    "    except ValueError:\n",
    "        print(\"숫자만 입력해야 합니다.\")\n",
    "    except ZeroDivisionError:\n",
    "        print(\"오류 : 0으로 나눌 수 없습니다.\")\n",
    "        \n",
    "divide_numbers()"
   ],
   "outputs": [
    {
     "name": "stdout",
     "output_type": "stream",
     "text": [
      "오류 : 0으로 나눌 수 없습니다.\n"
     ]
    }
   ],
   "execution_count": 4
  }
 ],
 "metadata": {
  "language_info": {
   "name": "python"
  },
  "kernelspec": {
   "name": "python3",
   "language": "python",
   "display_name": "Python 3 (ipykernel)"
  }
 },
 "nbformat": 4,
 "nbformat_minor": 2
}
