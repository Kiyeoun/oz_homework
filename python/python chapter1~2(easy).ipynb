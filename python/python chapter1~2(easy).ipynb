{
 "cells": [
  {
   "cell_type": "markdown",
   "id": "5ce5aa2babe14282",
   "metadata": {},
   "source": [
    "# 파이썬 1~2일차 쪽지시험"
   ]
  },
  {
   "cell_type": "markdown",
   "id": "136e2d85abe685b9",
   "metadata": {},
   "source": [
    "## 문제 1\n",
    "### 오즈코딩스쿨에서 코딩을 처음 시작한 박상훈!\n",
    "### 박상훈에게는 덩치, 애기라는 도마뱀이 있습니다.\n",
    "### 도마뱀의 나이는 각각 1살 2살 입니다.\n",
    "### 각 도마뱀의 이름으로 변수를 선언하고 각 도마뱀의 나이를 할당해주세요!!"
   ]
  },
  {
   "cell_type": "code",
   "id": "8e5a1ab9c30b38a7",
   "metadata": {
    "ExecuteTime": {
     "end_time": "2024-10-17T08:04:51.952920Z",
     "start_time": "2024-10-17T08:04:51.944484Z"
    }
   },
   "source": [
    "# 정답 입력\n",
    "도마뱀1, 도마뱀2 = '덩치', '애기' \n",
    "도마뱀1_나이, 도마뱀2_나이 = 1,2"
   ],
   "outputs": [],
   "execution_count": 1
  },
  {
   "cell_type": "markdown",
   "id": "94e68ef24ba3e5f7",
   "metadata": {},
   "source": [
    "## 문제 2\n",
    "### 박상훈의 `도마뱀 변수`들을 사용하여 `도마뱀 리스트`를 만들어 주세요!"
   ]
  },
  {
   "cell_type": "code",
   "id": "b8334aff8ce27138",
   "metadata": {
    "ExecuteTime": {
     "end_time": "2024-10-17T08:04:51.974181Z",
     "start_time": "2024-10-17T08:04:51.968533Z"
    }
   },
   "source": [
    "# 정담 입력\n",
    "도마뱀 = [[도마뱀1, 도마뱀1_나이],[도마뱀2,도마뱀2_나이]]\n",
    "print(도마뱀)"
   ],
   "outputs": [
    {
     "name": "stdout",
     "output_type": "stream",
     "text": [
      "[['덩치', 1], ['애기', 2]]\n"
     ]
    }
   ],
   "execution_count": 2
  },
  {
   "cell_type": "markdown",
   "id": "454fe842db180fc",
   "metadata": {},
   "source": [
    "## 문제 3\n",
    "### 박상훈이 도마뱀을 새로 샀어요!\n",
    "### 도마뱀의 이름은 마고, 나이는 2살이에요!\n",
    "### `도마뱀 리스트`에 가장 끝에 추가해주세요!!"
   ]
  },
  {
   "cell_type": "code",
   "id": "3ec1ef1be2927b78",
   "metadata": {
    "ExecuteTime": {
     "end_time": "2024-10-17T08:04:57.358806Z",
     "start_time": "2024-10-17T08:04:57.354711Z"
    }
   },
   "source": [
    "# 정답 입력\n",
    "도마뱀3 = '마고'\n",
    "도마뱀3_나이 = 2\n",
    "\n",
    "도마뱀.extend([[도마뱀3, 도마뱀3_나이]])\n",
    "print(도마뱀)"
   ],
   "outputs": [
    {
     "name": "stdout",
     "output_type": "stream",
     "text": [
      "[['덩치', 1], ['애기', 2], ['마고', 2], ['마고', 2]]\n"
     ]
    }
   ],
   "execution_count": 4
  },
  {
   "cell_type": "markdown",
   "id": "20ccbdf20f857d13",
   "metadata": {},
   "source": [
    "## 문제 4\n",
    "### 박상훈의 도마뱀들의 나이를 더해 주세요!!"
   ]
  },
  {
   "cell_type": "code",
   "id": "3ebc179d264d3866",
   "metadata": {
    "ExecuteTime": {
     "end_time": "2024-10-17T07:41:34.818753Z",
     "start_time": "2024-10-17T07:41:34.810596Z"
    }
   },
   "source": [
    "# 정답 입력\n",
    "도마뱀1_나이 + 도마뱀2_나이 + 도마뱀3_나이"
   ],
   "outputs": [
    {
     "data": {
      "text/plain": [
       "5"
      ]
     },
     "execution_count": 39,
     "metadata": {},
     "output_type": "execute_result"
    }
   ],
   "execution_count": 39
  },
  {
   "cell_type": "markdown",
   "id": "eea768f4f558a28a",
   "metadata": {},
   "source": [
    "## 문제 5\n",
    "### 박상훈의 `도마뱀 리스트`를 사용하여 \"사육장\"이라는 딕셔너리를 만들어주세요!"
   ]
  },
  {
   "cell_type": "code",
   "id": "49874bd7d6ee7c2d",
   "metadata": {
    "ExecuteTime": {
     "end_time": "2024-10-17T08:05:04.404777Z",
     "start_time": "2024-10-17T08:05:04.401163Z"
    }
   },
   "source": [
    "# 정답 입력\n",
    "사육장 = {\"도마뱀\": 도마뱀}\n",
    "\n",
    "print(사육장)\n",
    "\n"
   ],
   "outputs": [
    {
     "name": "stdout",
     "output_type": "stream",
     "text": [
      "{'도마뱀': [['덩치', 1], ['애기', 2], ['마고', 2], ['마고', 2]]}\n"
     ]
    }
   ],
   "execution_count": 5
  },
  {
   "cell_type": "markdown",
   "id": "a7b973b398f00642",
   "metadata": {},
   "source": [
    "## 문제 6\n",
    "### 사육장 딕셔너리를 `key, value` 형태로 출력해주세요!"
   ]
  },
  {
   "cell_type": "code",
   "id": "94544cb2f847228f",
   "metadata": {
    "ExecuteTime": {
     "end_time": "2024-10-17T08:22:28.557964Z",
     "start_time": "2024-10-17T08:22:28.553653Z"
    }
   },
   "source": [
    "# 정답 입력\n",
    "사육장 ={'덩치':1, '애기' :2, '마고':2}\n",
    "\n",
    "print(사육장)"
   ],
   "outputs": [
    {
     "name": "stdout",
     "output_type": "stream",
     "text": [
      "{'덩치': 1, '애기': 2, '마고': 2}\n"
     ]
    }
   ],
   "execution_count": 31
  },
  {
   "cell_type": "markdown",
   "id": "fec443543704aada",
   "metadata": {},
   "source": []
  },
  {
   "cell_type": "markdown",
   "id": "a9aa1a28e60e6bf8",
   "metadata": {},
   "source": [
    "## 문제 7\n",
    "### 도마뱀들의 나이를 `실수형태`로 출력해주세요!"
   ]
  },
  {
   "cell_type": "code",
   "id": "2183407c40686977",
   "metadata": {
    "ExecuteTime": {
     "end_time": "2024-10-17T08:12:25.251742Z",
     "start_time": "2024-10-17T08:12:25.246744Z"
    }
   },
   "source": [
    "# 정답 입력\n",
    "print(float(도마뱀1_나이))\n",
    "print(float(도마뱀2_나이))\n",
    "print(float(도마뱀3_나이))"
   ],
   "outputs": [
    {
     "name": "stdout",
     "output_type": "stream",
     "text": [
      "1.0\n",
      "2.0\n",
      "2.0\n"
     ]
    }
   ],
   "execution_count": 9
  },
  {
   "cell_type": "markdown",
   "id": "43428aabdee55513",
   "metadata": {},
   "source": [
    "## 문제 8\n",
    "### 1년이 지났습니다.\n",
    "### 도마뱀들이 1살씩 나이를 먹었어요\n",
    "### 도마뱀들의 나이를 바꿔주세요!"
   ]
  },
  {
   "cell_type": "code",
   "id": "286dc862809e7e80",
   "metadata": {
    "ExecuteTime": {
     "end_time": "2024-10-17T08:22:37.893767Z",
     "start_time": "2024-10-17T08:22:37.889132Z"
    }
   },
   "source": [
    "# 정답 입력\n",
    "도마뱀1_나이 = 도마뱀1_나이 +1\n",
    "도마뱀2_나이 = 도마뱀2_나이 +1\n",
    "도마뱀3_나이 = 도마뱀3_나이 +1\n",
    "\n",
    "print(도마뱀1_나이)\n",
    "print(도마뱀2_나이)\n",
    "print(도마뱀3_나이)"
   ],
   "outputs": [
    {
     "name": "stdout",
     "output_type": "stream",
     "text": [
      "522\n",
      "6\n",
      "6\n"
     ]
    }
   ],
   "execution_count": 34
  },
  {
   "cell_type": "markdown",
   "id": "ed5d1e1503e37223",
   "metadata": {},
   "source": [
    "## 문제 9\n",
    "### n년이 지났을 때 도마뱀의 나이가 알고 싶어 졌어요!!\n",
    "### `input` 을 이용해서 n년차 도마뱀들의 나이를 출력해주세요!"
   ]
  },
  {
   "cell_type": "code",
   "id": "7a8db95dd6192d42",
   "metadata": {
    "ExecuteTime": {
     "end_time": "2024-10-17T08:26:55.284295Z",
     "start_time": "2024-10-17T08:26:53.134818Z"
    }
   },
   "source": [
    "# 정답 입력\n",
    "n = int(input(\"몇 년 뒤 도마뱀의 나이를 알고싶은가요\"))\n",
    "\n",
    "n_나이_덩치 = 도마뱀1_나이 + n\n",
    "n_나이_애기 = 도마뱀2_나이 + n\n",
    "n_나이_마고 = 도마뱀3_나이 + n\n",
    "\n",
    "print(n_나이_덩치)\n",
    "print(n_나이_애기)\n",
    "print(n_나이_마고)"
   ],
   "outputs": [
    {
     "name": "stdout",
     "output_type": "stream",
     "text": [
      "525\n",
      "9\n",
      "9\n"
     ]
    }
   ],
   "execution_count": 36
  },
  {
   "cell_type": "markdown",
   "id": "3e3fd38bd44d9b2e",
   "metadata": {},
   "source": [
    "## 문제 10\n",
    "### 5년이 지났습니다\n",
    "### 우리 도마뱀들이 너무 커서 사육장을 분리해야해요!\n",
    "### 딕셔너리로 나누었던 것을 사육장1, 2, 3 `리스트`로 변경하고\n",
    "### 각 도마뱀들을 넣어주세요!"
   ]
  },
  {
   "cell_type": "code",
   "id": "95ad0c7878164214",
   "metadata": {
    "ExecuteTime": {
     "end_time": "2024-10-17T08:20:45.992846Z",
     "start_time": "2024-10-17T08:20:45.988560Z"
    }
   },
   "source": [
    "# 정답 입력\n",
    "사육장 = [[도마뱀[0]], [도마뱀[1]], [도마뱀[2]]]\n",
    "\n",
    "print(사육장)"
   ],
   "outputs": [
    {
     "name": "stdout",
     "output_type": "stream",
     "text": [
      "[[['덩치', 1]], [['애기', 2]], [['마고', 2]]]\n"
     ]
    }
   ],
   "execution_count": 30
  },
  {
   "cell_type": "markdown",
   "id": "e9add10bf3ea4774",
   "metadata": {},
   "source": []
  }
 ],
 "metadata": {
  "kernelspec": {
   "display_name": "Python 3",
   "language": "python",
   "name": "python3"
  },
  "language_info": {
   "codemirror_mode": {
    "name": "ipython",
    "version": 2
   },
   "file_extension": ".py",
   "mimetype": "text/x-python",
   "name": "python",
   "nbconvert_exporter": "python",
   "pygments_lexer": "ipython2",
   "version": "2.7.6"
  }
 },
 "nbformat": 4,
 "nbformat_minor": 5
}
